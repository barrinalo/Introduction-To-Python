{
 "cells": [
  {
   "cell_type": "markdown",
   "metadata": {},
   "source": [
    "# An Introduction to Programming - CU MedTech Society\n",
    "## Preamble\n",
    "Technology has and will play an integral role in healthcare, and there is a good deal of hype about being able to code to understand or even help create the technological product. However, much of AI and computer science can be understood without knowing how to code, and the skill is not necessary for a doctor's primary responsibilities. That being said, learning to code can allow you to experiment with ideas and help consolidate your thoughts. The goal of this tutorial and subsequent ones are to provide a basic understanding of one of the many aspects of MedTech, and hopefully it will help you decide if it is something you wish to explore further.\n",
    "\n",
    "## A note on programming languages\n",
    "There are many programming languages, of which **R and Python** are the most commonly known to medics. Each language has its own strengths in terms of speed of execution, what platforms it normally runs on, what kind of pre-existing code is available, how the language structure makes you think etc. For these tutorials we will be using **Python** because it has a syntax similar to english and has a lot of pre-existing code that will make your life much easier.  \n",
    "  \n",
    "A common question that people new to programming ask is **what programming language should I learn?** While there is much debate about which language is better to learn first, in my opinion this is the wrong question to ask. This is because which programming language you use is dependent on what you are trying to achieve, and instead you should ask **what problem do I want to solve** or **what solution do I want to create**. For instance if you want to work with robotics and sensors to develop a new medical device or surgical tool you might consider learning **C/C++** to interface with hardware. Alternatively if you wish to develop an app and cloud based service to perhaps enable doctors and patients to work more closely regarding monitoring of health and compliance with treatment, you probably need to pick up a whole stack of languages: **Java/Objective-C, PHP and MySQL**. For machine learning and data analysis **R and Python** are both good choices. Lastly, I would like to encourage you to not focus too much on the language but on the way you would go about approaching a problem.\n",
    "\n",
    "## Basic Navigation\n",
    "Throughout these notebooks if you see a box such as the one below\n"
   ]
  },
  {
   "cell_type": "code",
   "execution_count": null,
   "metadata": {},
   "outputs": [],
   "source": [
    "\"The doctor will see you now\""
   ]
  },
  {
   "cell_type": "markdown",
   "metadata": {},
   "source": [
    "You can double click the box to type in your code. You can then execute that code by **holding shift and pressing enter.** This should execute your code and the output will appear below the box. You can try it now with the box above. If you right click the box you can clear the output or just edit the code and execute it again.\n",
    "## Building a simple Electronic Health Record\n",
    "Electronic health records (EHR) have replaced paper systems in some hospitals. As a mini-project to tie together various concepts in programming, we will attempt to build a simple EHR system in this tutorial.\n",
    "### Keeping track of patient information\n",
    "The primary purpose of an EHR is to store information about a patient such as their contact details, or their basic obs for the day. For instance in python you could do this like so"
   ]
  },
  {
   "cell_type": "code",
   "execution_count": null,
   "metadata": {},
   "outputs": [],
   "source": [
    "First_Name = \"John\"\n",
    "Last_Name = \"Doe\"\n",
    "Heart_Rate = 70\n",
    "Respiratory_Rate = 15"
   ]
  },
  {
   "cell_type": "markdown",
   "metadata": {},
   "source": [
    "In the example above, we have **assigned** some values to a set of **variables**. **Variables** act as handles to data which you wish to work with in your program, and in most cases the **variable name** can be used to substitute for the value stored in it. The format or **syntax** for creating variables in python is `variable_name = \"some value\"`. The **single** `=` is crucial. You are generally free to name variables as you like, however, there are some rules for creating the names.\n",
    "- Spaces are not allowed\n",
    "- Names must start with a letter or an underscore, **a number is not allowed**\n",
    "- The rest of the name may include a combination of alpha-numeric characters and an underscore\n",
    "- Names are case sensitive  \n",
    "\n",
    "As an exercise, you have taken the blood pressure of Mr. Doe and found it to be 140/100. Add this information to his records below"
   ]
  },
  {
   "cell_type": "code",
   "execution_count": null,
   "metadata": {},
   "outputs": [],
   "source": [
    "First_Name = \"John\"\n",
    "Last_Name = \"Doe\"\n",
    "Heart_Rate = 70\n",
    "Respiratory_Rate = 15"
   ]
  },
  {
   "cell_type": "markdown",
   "metadata": {},
   "source": [
    "### Extracting information from the record\n",
    "If you wanted to view the patient's first name you could do so by printing it like so. If you get an error when executing the code below it could be because you have not executed the earlier blocks of code and hence the variable has not been assigned yet."
   ]
  },
  {
   "cell_type": "code",
   "execution_count": null,
   "metadata": {},
   "outputs": [],
   "source": [
    "print(First_Name)"
   ]
  },
  {
   "cell_type": "markdown",
   "metadata": {},
   "source": [
    "However, if I wanted to print the patient's full name, I would need to combine the variables `First_Name` and `Last_Name`. This can be done as follows"
   ]
  },
  {
   "cell_type": "code",
   "execution_count": null,
   "metadata": {},
   "outputs": [],
   "source": [
    "print(First_Name + \" \" + Last_Name)"
   ]
  },
  {
   "cell_type": "markdown",
   "metadata": {},
   "source": [
    "`print()` is a **function** which does what it says on the tin, it takes some values and prints them to the screen. We will cover what functions are later, but for now you can see that we have **concatenated** the variables `First_Name` and `Last_Name` with a space in the middle. When values are used directly without being attached to a variable, they are called **literals**. The `+` sign is an **operator** which allows you to manipulate the data stored in variables. Which **operators** are permitted for some variables and what they do is determined by the **type** of data stored in the variable. The 2 most familiar types for medics are probably **Integers** and **Floats** which are basically whole numbers and decimal numbers respectively. The **operators** for these data types are the standard mathematical operations."
   ]
  },
  {
   "cell_type": "code",
   "execution_count": null,
   "metadata": {},
   "outputs": [],
   "source": [
    "x = 3\n",
    "y = 10\n",
    "print(x + y) # Addition\n",
    "print(x - y) # Subtraction\n",
    "print(y / x) # True Division\n",
    "print(y // x) # Integer division\n",
    "print(x * y) # Multiplication\n",
    "print(y % x) # Remainder\n",
    "print(y ** x) # Exponent"
   ]
  },
  {
   "cell_type": "markdown",
   "metadata": {},
   "source": [
    "Now as an exercise, can you calculate the pulse pressure for this patient"
   ]
  },
  {
   "cell_type": "code",
   "execution_count": null,
   "metadata": {},
   "outputs": [],
   "source": [
    "Systolic_BP = 140\n",
    "Diastolic_BP = 100"
   ]
  },
  {
   "cell_type": "markdown",
   "metadata": {},
   "source": [
    "Now calculate the patient's BMI (weight/height squared)"
   ]
  },
  {
   "cell_type": "code",
   "execution_count": null,
   "metadata": {},
   "outputs": [],
   "source": [
    "Weight = 70\n",
    "Height = 1.7"
   ]
  },
  {
   "cell_type": "markdown",
   "metadata": {},
   "source": [
    "Another common data type in python is a **String**. This data type is basically text, and is anything enclosed in `''` or `\"\"`. As seen earlier, you can use the `+` operator on a String which does not make sense from a mathematical perspective. So in this case the `+` does not add 2 String variables, but instead puts them end to start (concatenation). This is an example of how the data type affects the action of an operator. This is known as **operator overloading**."
   ]
  },
  {
   "cell_type": "code",
   "execution_count": null,
   "metadata": {},
   "outputs": [],
   "source": [
    "print(First_Name + Last_Name) # String concatenation\n",
    "print(First_Name * 3) # String repetition"
   ]
  },
  {
   "cell_type": "markdown",
   "metadata": {},
   "source": [
    "Lastly, a data type that contains only `True` or `False` values is known as a **Boolean**. **Boolean** values are very useful for making decisions in a program. Boolean values can be specified as a literal such as `x = True` or more commonly generated from **comparison operators**."
   ]
  },
  {
   "cell_type": "code",
   "execution_count": null,
   "metadata": {},
   "outputs": [],
   "source": [
    "x = 3\n",
    "y = 10\n",
    "print(x > y) # greater than\n",
    "print(x < y) # less than\n",
    "print(x >= y) # greater than or equal to\n",
    "print(x <= y) # lesser than or equal to\n",
    "print(x == y) # equivalence (don't confuse this with the assignment operator for creating variables)"
   ]
  },
  {
   "cell_type": "markdown",
   "metadata": {},
   "source": [
    "Some of these operators also work on Strings"
   ]
  },
  {
   "cell_type": "code",
   "execution_count": null,
   "metadata": {},
   "outputs": [],
   "source": [
    "First_Name = \"John\"\n",
    "Last_Name = \"Doe\"\n",
    "print(First_Name == Last_Name) # Are the 2 strings equal\n",
    "print(First_Name > Last_Name) # Which String is \"greater\" according to alphabetical order\n",
    "print(First_Name < Last_Name) # Which String is \"lesser\" according to alphabetical order"
   ]
  },
  {
   "cell_type": "markdown",
   "metadata": {},
   "source": [
    "As an exercise, determine if the patient has a systolic blood pressure greater than or equal to 140 and a diastolic blood pressure greater than or equal to 90"
   ]
  },
  {
   "cell_type": "code",
   "execution_count": null,
   "metadata": {},
   "outputs": [],
   "source": [
    "Systolic_BP = 140\n",
    "Diastolic_BP = 100"
   ]
  },
  {
   "cell_type": "markdown",
   "metadata": {},
   "source": [
    "Now that you know how to generate **Boolean** values, you can combine them to generate more complex decisions. This is done through the use of **logical operators**. "
   ]
  },
  {
   "cell_type": "code",
   "execution_count": null,
   "metadata": {},
   "outputs": [],
   "source": [
    "x = True\n",
    "y = False\n",
    "print(not x) # Inverts the boolean value\n",
    "print(x and y) # Returns True if both x and y are True\n",
    "print(x and not y)\n",
    "print(x or y) # Returns True if either x or y are True\n",
    "print(not x or y)"
   ]
  },
  {
   "cell_type": "markdown",
   "metadata": {},
   "source": [
    "Now can you combine the boolean values regarding the patient's blood pressure to determine if it is considered hypertensive, assuming a blood pressure of 140/90 and above is considered hypertensive."
   ]
  },
  {
   "cell_type": "code",
   "execution_count": null,
   "metadata": {},
   "outputs": [],
   "source": [
    "Systolic_BP = 140\n",
    "Diastolic_BP = 100"
   ]
  },
  {
   "cell_type": "markdown",
   "metadata": {},
   "source": [
    "### Making Decisions Based on Patient Information\n",
    "Doctors often have to make decisions based on test results or to follow guidelines. For instance, this is the flowchart for treating hypertension. ![](img/care-pathway-for-hypertension.jpg)  \n",
    "If you look at the orange boxes at the top, you can see that the first decision is made based on how high the patient's blood pressure is. In python, you make decisions using `if condition elif condition else` statements. You initiate a decision making point by using `if` and you can place as many decisions after that using `elif` which is short for *else if*, and finally you can optionally include an `else` as a final catch all.  \n",
    "An important point to note is that **indentation** is used in python for scope, which is basically a block of code that should be self-contained, as in the case of an if else block. Under each `if condition:` should be an indented block of code that will be executed if the condition is satisfied. If you have programmed previously in other languages such as R, this is normally satisfied using curly brackets.  \n",
    "Now fill in the code block below with the appropriate conditions to include all 3 cases for the first decision point in treating hypertension."
   ]
  },
  {
   "cell_type": "code",
   "execution_count": null,
   "metadata": {},
   "outputs": [],
   "source": [
    "Systolic_BP = 140\n",
    "Diastolic_BP = 100\n",
    "\n",
    "if replace_with_condition:\n",
    "    print(\"Offer to check blood pressure at least every 5 years\")\n",
    "elif replace_with_condition:\n",
    "    print(\"Offer ABPM (or HPBM if ABPM is declined or not tolerated)\")\n",
    "else:\n",
    "    print(\"Consider starting anti-hypertensive treatment immediately\")"
   ]
  },
  {
   "cell_type": "markdown",
   "metadata": {},
   "source": [
    "### Storing more information\n",
    "So far we have stored some basic information such as `first_name`, `last_name`, and some basic obs. However, patients need to have their obs continuously monitored, and creating new variables each time would quickly become laborious. One option to solve this problem is to use **lists**. A list is a **data structure** which allows you to store and manipulate multiple values. You can then store this **data structure** into a variable, much like how you store a **value** into a variable. For example `my_list = []`. A list can be initiated as an empty list `[]` or with values `[1,2,3]` where each value is separated by a comma. Can you create a list of 10 observations for each of the following basic obs.\n",
    "- Heart Rate\n",
    "- Respiratory Rate\n",
    "- Systolic BP\n",
    "- Diastolic BP\n",
    "- Oxygen Sats\n",
    "- Temperature"
   ]
  },
  {
   "cell_type": "code",
   "execution_count": null,
   "metadata": {},
   "outputs": [],
   "source": [
    "Heart_Rate = \n",
    "Respiratory_Rate = \n",
    "Systolic_BP = \n",
    "Diastolic_BP = \n",
    "Oxygen_Sats = \n",
    "Temperature = "
   ]
  },
  {
   "cell_type": "markdown",
   "metadata": {},
   "source": [
    "Lists can contain a mixture of data types, and you can add and remove items from a list by using `my_list.append(my_value)` and `my_list.remove(some_value)` respectively. Additionally, you can remove the last item of a list by using `my_list.pop()` or if you supply a number as in `my_list.pop(5)` it will remove the 6th element of the list (if the element exists). The reason it will remove the 6th element is because **python starts counting from 0 not 1**. Now imagine you have taken some obs from the patient shown below. Can you add them to the existing lists you created?  \n",
    "- Heart Rate : 65\n",
    "- Respiratory Rate : 12\n",
    "- Systolic BP : 120\n",
    "- Diastolic BP : 80\n",
    "- Oxygen Sats : 98\n",
    "- Temperature : 36.9"
   ]
  },
  {
   "cell_type": "code",
   "execution_count": null,
   "metadata": {},
   "outputs": [],
   "source": [
    "# Add the values here"
   ]
  },
  {
   "cell_type": "markdown",
   "metadata": {},
   "source": [
    "You notice that the patient has a normal blood pressure now but that possibly he has had abnormal blood pressure in the past. You can access an element of a list through **indexing** through the use of square brackets which looks like this `my_list[some_integer]`. You may also access multiple elements at once like so `my_list[starting_integer:ending_integer]` by specifying your start and end indexes separated by a colon. A useful method is to index lists using negative numbers. For instance, if you wish to access the last element of a list but do not know its length, you can use `my_list[-1]`. You may also access everything from a list starting from a particular index for instance `my_list[start_number:]` accesses all values beginning from `start_number` to the end of the list. Similarly `my_list[:end_number]` allows acccess from the beginning of the list till that index.  \n",
    "![](img/python_list_access.jpeg)  \n",
    "Now can you plot the trend for the diastolic and systolic blood pressure over the past 5 \"days\" (last 5 elements of the list) to see the trajectory of the patient's blood pressure?"
   ]
  },
  {
   "cell_type": "code",
   "execution_count": null,
   "metadata": {},
   "outputs": [],
   "source": [
    "import matplotlib.pyplot as plt\n",
    "days = range(0,5)\n",
    "plt.plot(days, ) # Fill in one of the blood pressure values here\n",
    "plt.plot(days, ) # Fill in one of the blood pressure values here\n",
    "plt.show()"
   ]
  },
  {
   "cell_type": "markdown",
   "metadata": {},
   "source": [
    "In the example above, you have used pre-existing code, or a **library**, which someone else has written. When coding it is often tempting to try and re-invent the wheel, but using code that other people have written will save you a lot of time and effort.\n",
    "### Filling in the rest of the record\n",
    "Now that you have a list of several basic obs, you need to fill in the rest of the record by completing a list of pulse pressures. Create an empty list below to hold pulse pressures"
   ]
  },
  {
   "cell_type": "code",
   "execution_count": null,
   "metadata": {},
   "outputs": [],
   "source": [
    "# Create your pulse pressure record here"
   ]
  },
  {
   "cell_type": "markdown",
   "metadata": {},
   "source": [
    "One option would be to manually fill in each pulse pressure, but what if the patient was in hospital for more than a month or needed particularly close monitoring? Computers can perform repetitive tasks through the use of **loops**. In python, there are 2 loops, the **for** loop and the **while** loop."
   ]
  },
  {
   "cell_type": "code",
   "execution_count": null,
   "metadata": {},
   "outputs": [],
   "source": [
    "# Example of a for loop\n",
    "for i in range(0,10):\n",
    "    pass #do something here\n",
    "\n",
    "# Example of a while loop\n",
    "x = 0\n",
    "while x < 10:\n",
    "    x = x + 1\n",
    "    "
   ]
  },
  {
   "cell_type": "markdown",
   "metadata": {},
   "source": [
    "The 2 types of loops are similar, but with the caveat that it is easy for you to send your computer into an **infinite loop** if you use a while loop. This is because the loop determines if it still needs to run based on the condition you set right after it e.g `x < 10`. However, python does not require you to increment x in the loop, and you could end up with x staying at 0 forever. The for loop is usually more flexible, as it enables **iteration** over data structures like **lists** or **dictionaries**. In fact the function **range(0,10)** returns a list that the for loop goes through element by element, assigning the current element to `i`. Using a loop and list indexing, can you calculate all the pulse pressures and add them to the empty list you created earlier?"
   ]
  },
  {
   "cell_type": "code",
   "execution_count": null,
   "metadata": {},
   "outputs": [],
   "source": [
    "# Put your code here"
   ]
  },
  {
   "cell_type": "markdown",
   "metadata": {},
   "source": [
    "## Summary\n",
    "If you managed to follow this tutorial, you have been introduced to some basic building blocks of programming namely  \n",
    "- Variables\n",
    "- Data Types\n",
    "- The list data structure\n",
    "- Loops\n",
    "- Program Flow Control (making decisions in your program)  \n",
    "\n",
    "To help you consolidate these concepts, a few exercises have been prepared below. Possible solutions to these exercises will be provided eventually but please try them out for yourself first. Discussing with others might be helpful."
   ]
  },
  {
   "cell_type": "markdown",
   "metadata": {},
   "source": [
    "## Exercises\n",
    "### Patience in the waiting room\n",
    "You arrive at your GP surgery and are informed that the electronic scheduling system has broken down. The reception hands you a file of patients that you need to see for the day. Unfortunately it is organised according to the alphabetical order of the patients' names rather than their appointment times. Luckily you attended CU MedTech's introduction to programming webinar and so are equipped to **sort** this list of patients in order of earliest to latest appointment. You decide to **ignore** the tutorial's advice about using pre-existing code such as the in-built list sorting function in python or even Excel's sort and code it from scratch.  \n",
    "  \n",
    "Sort the `Appointment_Times` and `Patient_Names` lists according to `Appointment_Times` and print both of them.\n",
    "**The appointment times can be compared using greater than or less than and will sort according to alphabetical order which in this case because the times are in 24hr format will sort as expected**  \n",
    "Some knowledge you might need to use from the tutorial are  \n",
    "- List indexing\n",
    "- Loops\n",
    "- Program Flow control and comparison  \n",
    "\n",
    "Additionally, you may find the in-built list function `my_list.index(some_value)` useful. If you pass this function a value, it will search `my_list` for the value and if found return the index of the value. Another useful function is `len(my_list)` tells you the number of elements in a list.  "
   ]
  },
  {
   "cell_type": "code",
   "execution_count": null,
   "metadata": {},
   "outputs": [],
   "source": [
    "# List of patient names\n",
    "Patient_Names = [\"Asanish\", \"Beth\", \"Charlie\", \"David\", \"Eduarda\", \"Frank\", \"Gareth\", \"Haily\", \"Izzy\", \"Jonathan\", \"Kosi\", \"Lucy\", \"Munetomo\", \"Neel\"]\n",
    "# Patient Appointment Times (order of the lists match each other)\n",
    "Appointment_Times = [\"1130\",\"1230\",\"0830\",\"0800\",\"1600\",\"1500\",\"1200\",\"0915\",\"1000\",\"1030\",\"1415\",\"1300\",\"1330\",\"1430\"]\n",
    "\n",
    "for i in range(0,len(Appointment_Times)):\n",
    "    # Create temporary place for switching time values\n",
    "    cur_time = Appointment_Times[i] \n",
    "    # Loop through all time values that have not already been sorted and identify the earliest one.\n",
    "    # All time and name values in the list with index < i are already sorted hence range of i to len(Appointment_Times)\n",
    "    for j in range(i,len(Appointment_Times)):\n",
    "        if cur_time > Appointment_Times[j]:\n",
    "            cur_time = Appointment_Times[j]\n",
    "    # Identify the index of the earliest time identified in unsorted part of the list\n",
    "    cur_time_index = Appointment_Times.index(cur_time)\n",
    "    # Create temporary place for switching name values\n",
    "    cur_patient = Patient_Names[cur_time_index]\n",
    "    # Perform 3 way value shuffle for name\n",
    "    Patient_Names[cur_time_index] = Patient_Names[i]\n",
    "    Patient_Names[i] = cur_patient\n",
    "    #Perform 3 way value shuffle for time\n",
    "    Appointment_Times[cur_time_index] = Appointment_Times[i]\n",
    "    Appointment_Times[i] = cur_time\n",
    "\n",
    "print(Patient_Names)\n",
    "print(Appointment_Times)"
   ]
  },
  {
   "cell_type": "markdown",
   "metadata": {},
   "source": [
    "### Guideline Flowchart Quiz Generator\n",
    "There are so many flowchart guidelines in the NHS. If only we could just code all of them into a program and feed in the data so the computer decides what we need to do. Alas, I think we still need to learn them, so instead of coding the decision tree, how about reversing the process by having the computer generate a case and subsequently providing a quiz to help medical students revise by testing their knowledge?  \n",
    "![](img/care-pathway-for-hypertension.jpg)  \n",
    "**Rough plan**\n",
    "1. Generate random values for Blood Pressures and Cardiovascular risk\n",
    "2. Create a decision tree that processes this random blood pressure\n",
    "3. Use the decision tree to determine which actions and classifications are appropriate\n",
    "4. Generate a list of options for the user to choose from of which one will be the correct action\n",
    "5. Ask for user input\n",
    "6. Check if user input is correct and provide feedback\n",
    "7. Repeat 3 to 7 until flow chart is completed  \n",
    "\n",
    "#### Generating a random systolic and diastolic blood pressure\n",
    "To generate a random number, you can use python's in-built random number generator. This function is located in the `random` library, and you need to `import` it before you can use it. The function `random.randint(a,b)` takes 2 values `a` and `b` which represent the lower and upper range of the randomly generated numbers respectively. You can use these **arguments**, values which can be passed to a function, to make physiologically realistic systolic blood pressure values. If you just randomly generate a systolic and diastolic blood pressure independently, you may end up with a diastolic blood pressure greater than the systolic, so consider how you might use this function to generate physiologically realistic systolic and diastolic blood pressures. You will also need to generate ABPM/HBPM values which must be related to the clinic measured values."
   ]
  },
  {
   "cell_type": "code",
   "execution_count": null,
   "metadata": {},
   "outputs": [],
   "source": [
    "import random\n",
    "Systolic_BP = random.randint(100,220)\n",
    "Diastolic_BP = Systolic_BP - random.randint(20,60)"
   ]
  },
  {
   "cell_type": "markdown",
   "metadata": {},
   "source": [
    "#### Creating a decision tree that processes the random values to determine appropriate actions and diagnosis\n",
    "You may need to generate more information along the way e.g ABPM, suspected phaeochromocytoma etc. depending on progression through the tree. To obtain user input you can use the `input(text_here)` function which asks for user input while displaying the value of `text_here` for the user to read. Consider displaying options as you go along. You may also find `random.shuffle(my_list)` useful for randomising the positions of question options. The function acts on the list given directly, so there is no need to re-assign to the list. Additionally, you may find it useful to **cast** values from one type to another. For instance, the value 10 could be interpreted numerically as `10` or a String as `\"10\"`. You can convert variables to different types by enclosing them in `str(my_variable)` to convert it to a String, `int(my_variable)` to convert it to an integer, or `float(my_variable)` to convert it to a float."
   ]
  },
  {
   "cell_type": "code",
   "execution_count": null,
   "metadata": {},
   "outputs": [],
   "source": [
    "'''\n",
    "Decision Points\n",
    "1. Clinic blood pressure\n",
    "2. Accelerated Hypertension\n",
    "3. Suspected phaeochromocytoma\n",
    "4. ABPM/HPBM\n",
    "5. Younger than 40 years\n",
    "6. Target Organ Damage Present\n",
    "7. 10 year Cardiovascular Risk > 20%\n",
    "8. Target Organ Damage Evidence\n",
    "\n",
    "Group Actions by Decision Points\n",
    "'''\n",
    "import random\n",
    "# Create reference list of possible actions\n",
    "offer_5_year_check = \"Offer to check blood pressure at least every 5 years\"\n",
    "offer_abpm = \"Offer ABPM (or HPBM if ABPM is declined or not tolerated)\"\n",
    "offer_cardiovascular_risk_assessment = \"Offer to access cardiovascular risk and target organ damage\"\n",
    "consider_immediate = \"Consider starting antihypertensive drug treatment immediately\"\n",
    "offer_antihypertensive = \"Offer antihypertensive drug treament\"\n",
    "offer_lifestyle = \"Offer lifestyle interventions\"\n",
    "offer_education = \"Offer patient education and interventions to support adherence to treatment\"\n",
    "offer_annual = \"Offer annual review of care\"\n",
    "consider_specialist = \"Consider specialist referral\"\n",
    "refer_same_day = \"Refer same day for specialist care\"\n",
    "consider_alternative = \"Consider alternative causes for target organ damage\"\n",
    "action_list = [offer_5_year_check, offer_abpm, offer_cardiovascular_risk_assessment, consider_immediate, offer_antihypertensive, \n",
    "               offer_lifestyle, offer_education, offer_annual, consider_specialist, refer_same_day, consider_alternative]\n",
    "\n",
    "# Create a list to keep track of actions taken as we move through the flow chart\n",
    "actions_taken = []\n",
    "\n",
    "# Generate initial BP\n",
    "Systolic_BP = random.randint(100,220)\n",
    "Diastolic_BP = Systolic_BP - random.randint(30,60)\n",
    "if Diastolic_BP < 50: # Prevent ridiculously low diastolic BP\n",
    "    Diastolic_BP = 50\n",
    "print(Systolic_BP)\n",
    "print(Diastolic_BP)\n",
    "if Systolic_BP < 140 and Diastolic_BP < 90:\n",
    "    actions_taken.append(offer_5_year_check)\n",
    "    # Generate options for question\n",
    "    right_answer = random.randint(0,len(actions_taken)-1)\n",
    "    question_list = [actions_taken[right_answer]]\n",
    "    while len(question_list) < 4:\n",
    "        chosen_question = random.randint(0,len(action_list)-1)\n",
    "        if action_list[chosen_question] not in question_list and action_list[chosen_question] not in actions_taken:\n",
    "            question_list.append(action_list[chosen_question])\n",
    "    random.shuffle(question_list)\n",
    "    right_answer = question_list.index(actions_taken[right_answer])\n",
    "    options_text = \"\"\n",
    "    for i in range(0,len(question_list)):\n",
    "        options_text = options_text + str(i+1) + \") \" + question_list[i] + \"\\n\"\n",
    "    user_answer = input(\"A patient presents with a blood pressure of \" + str(Systolic_BP) + \"/\" + str(Diastolic_BP) + \n",
    "                        \". What action would you take?\\n\" + options_text)\n",
    "    if int(user_answer) == right_answer + 1:\n",
    "        print(\"Correct\")\n",
    "        exit\n",
    "    else:\n",
    "        print(\"Incorrect. The answer was \" + question_list[right_answer])\n",
    "        exit\n",
    "else: # Treatment of > 140/90 and >180/110 is largely similar except for a few options so combine these\n",
    "    actions_taken.append(offer_abpm)\n",
    "    actions_taken.append(offer_cardiovascular_risk_assessment)\n",
    "    # Generate ABPM\n",
    "    Systolic_BP_ABPM = Systolic_BP - random.randint(10,50)\n",
    "    Diastolic_BP_ABPM = Diastolic_BP - random.randint(10,50)\n",
    "    Condition_List = \"\" # Prepare condition list for question\n",
    "    if Systolic_BP >= 180 and Diastolic_BP >= 110:\n",
    "        actions_taken.append(consider_immediate)\n",
    "        condition_generation = random.randint(0,3) # Simulate presence of accelerated hypertension or suspected phaeochromocytoma with the 4 possible states\n",
    "        if condition_generation == 1: \n",
    "            Condition_List = \"suspected phaeochromocytoma\"\n",
    "            actions_taken.append(refer_same_day)\n",
    "        elif condition_generation == 2: \n",
    "            Condition_List = \"accelerated hypertension\"\n",
    "            actions_taken.append(refer_same_day)\n",
    "        elif condition_generation == 3: \n",
    "            Condition_List = \"suspected phaeochromocytoma and accelerated hypertension\"\n",
    "            actions_taken.append(refer_same_day)\n",
    "        else:\n",
    "            pass\n",
    "    # Generate question options\n",
    "    right_answer = random.randint(0,len(actions_taken)-1)\n",
    "    question_list = [actions_taken[right_answer]]\n",
    "    while len(question_list) < 4:\n",
    "        chosen_question = random.randint(0,len(action_list)-1)\n",
    "        if action_list[chosen_question] not in question_list and action_list[chosen_question] not in actions_taken:\n",
    "            question_list.append(action_list[chosen_question])\n",
    "    random.shuffle(question_list)\n",
    "    right_answer = question_list.index(actions_taken[right_answer])\n",
    "    options_text = \"\"\n",
    "    for i in range(0,len(question_list)):\n",
    "        options_text = options_text + str(i+1) + \") \" + question_list[i] + \"\\n\"\n",
    "    if Condition_List != \"\":\n",
    "        user_answer = input(\"A patient presents with a blood pressure of \" + str(Systolic_BP) + \"/\" + str(Diastolic_BP) + \n",
    "                        \" and \" + Condition_List + \". What action would you take?\\n\" + options_text)\n",
    "    else:\n",
    "        user_answer = input(\"A patient presents with a blood pressure of \" + str(Systolic_BP) + \"/\" + str(Diastolic_BP) + \n",
    "                        \". What action would you take?\\n\" + options_text)\n",
    "    if int(user_answer) == right_answer + 1:\n",
    "        print(\"Correct\")\n",
    "    else:\n",
    "        print(\"Incorrect. The answer was \" + question_list[right_answer])\n",
    "    # Continue with the flow chart\n",
    "    print(\"You have now performed the following actions:\")\n",
    "    for i in range(0,len(actions_taken)):\n",
    "        print(str(i+1) + \") \" + actions_taken[i])\n",
    "    # Clear the action list for a new set of actions\n",
    "    actions_taken = []\n",
    "    if Systolic_BP_ABPM < 135 and Diastolic_BP_ABPM < 85:\n",
    "        # Generate more information on the fly\n",
    "        target_organ_evidence = random.randint(0,1)\n",
    "        Condition_List = \"\"\n",
    "        if target_organ_evidence:\n",
    "            actions_taken.append(consider_alternative)\n",
    "            Condition_List = \"Evidence of target organ damage\"\n",
    "        actions_taken.append(offer_5_year_check)\n",
    "        # Generate question options\n",
    "        right_answer = random.randint(0,len(actions_taken)-1)\n",
    "        question_list = [actions_taken[right_answer]]\n",
    "        while len(question_list) < 4:\n",
    "            chosen_question = random.randint(0,len(action_list)-1)\n",
    "            if action_list[chosen_question] not in question_list and action_list[chosen_question] not in actions_taken:\n",
    "                question_list.append(action_list[chosen_question])\n",
    "        random.shuffle(question_list)\n",
    "        right_answer = question_list.index(action_list[right_answer])\n",
    "        options_text = \"\"\n",
    "        for i in range(0,len(question_list)):\n",
    "            options_text = options_text + str(i+1) + \") \" + question_list[i] + \"\\n\"\n",
    "        if Condition_List != \"\":\n",
    "            user_answer = input(\"The ABPM for the patient was reported to be \" + str(Systolic_BP_ABPM) + \"/\" + str(Diastolic_BP_ABPM) + \n",
    "                            \" and \" + Condition_List + \". What action would you take?\\n\" + options_text)\n",
    "        else:\n",
    "            user_answer = input(\"The ABPM for the patient was reported to be \" + str(Systolic_BP_ABPM) + \"/\" + str(Diastolic_BP_ABPM) + \n",
    "                            \". What action would you take?\\n\" + options_text)\n",
    "        if int(user_answer) == right_answer + 1:\n",
    "            print(\"Correct\")\n",
    "        else:\n",
    "            print(\"Incorrect. The answer was \" + question_list[right_answer])\n",
    "    else:\n",
    "        actions_taken.append(offer_lifestyle)\n",
    "        actions_taken.append(offer_education)\n",
    "        actions_taken.append(offer_annual)\n",
    "        if Systolic_BP_ABPM >= 150 and Diastolic_BP_ABPM >= 95:\n",
    "            actions_taken.append(offer_antihypertensive)\n",
    "            # Generate question options\n",
    "            right_answer = random.randint(0,len(actions_taken)-1)\n",
    "            question_list = [actions_taken[right_answer]]\n",
    "            while len(question_list) < 4:\n",
    "                chosen_question = random.randint(0,len(action_list)-1)\n",
    "                if action_list[chosen_question] not in question_list and action_list[chosen_question] not in actions_taken:\n",
    "                    question_list.append(action_list[chosen_question])\n",
    "            random.shuffle(question_list)\n",
    "            right_answer = question_list.index(action_list[right_answer])\n",
    "            options_text = \"\"\n",
    "            for i in range(0,len(question_list)):\n",
    "                options_text = options_text + str(i+1) + \") \" + question_list[i] + \"\\n\"\n",
    "            user_answer = input(\"The ABPM for the patient was reported to be \" + str(Systolic_BP_ABPM) + \"/\" + str(Diastolic_BP_ABPM) + \n",
    "                            \". What action would you take?\\n\" + options_text)\n",
    "            if int(user_answer) == right_answer + 1:\n",
    "                print(\"Correct\")\n",
    "            else:\n",
    "                print(\"Incorrect. The answer was \" + question_list[right_answer])\n",
    "            print(\"You have now performed the following actions:\")\n",
    "            for i in range(0,len(actions_taken)):\n",
    "                print(str(i+1) + \") \" + actions_taken[i])\n",
    "        else:\n",
    "            # Generate more information on the fly\n",
    "            age = random.randint(20,100)\n",
    "            cardiovascular_risk = random.randint(0,50)\n",
    "            organ_damage = random.randint(0,1)\n",
    "            if age < 40:\n",
    "                actions_taken.append(consider_specialist)\n",
    "            if cardiovascular_risk > 20 or organ_damage == 1:\n",
    "                actions_taken.append(offer_antihypertensive)\n",
    "            # Generate question options\n",
    "            right_answer = random.randint(0,len(actions_taken)-1)\n",
    "            question_list = [actions_taken[right_answer]]\n",
    "            while len(question_list) < 4:\n",
    "                chosen_question = random.randint(0,len(action_list)-1)\n",
    "                if action_list[chosen_question] not in question_list and action_list[chosen_question] not in actions_taken:\n",
    "                    question_list.append(action_list[chosen_question])\n",
    "            random.shuffle(question_list)\n",
    "            right_answer = question_list.index(action_list[right_answer])\n",
    "            options_text = \"\"\n",
    "            for i in range(0,len(question_list)):\n",
    "                options_text = options_text + str(i+1) + \") \" + question_list[i] + \"\\n\"\n",
    "            if organ_damage == 1:\n",
    "                user_answer = input(\"The ABPM for the patient was reported to be \" + str(Systolic_BP_ABPM) + \"/\" + str(Diastolic_BP_ABPM) + \n",
    "                                    \", is \" + str(age) + \"y/o with a 10-year cardiovascular risk of \" + str(cardiovascular_risk)\n",
    "                                     + \"% and target organ damage. What action would you take?\\n\" + options_text)\n",
    "            else:\n",
    "                user_answer = input(\"The ABPM for the patient was reported to be \" + str(Systolic_BP_ABPM) + \"/\" + str(Diastolic_BP_ABPM) + \n",
    "                                    \", is \" + str(age) + \"y/o with a 10-year cardiovascular risk of \" + str(cardiovascular_risk)\n",
    "                                     + \"%. What action would you take?\\n\" + options_text)\n",
    "            if int(user_answer) == right_answer + 1:\n",
    "                print(\"Correct\")\n",
    "            else:\n",
    "                print(\"Incorrect. The answer was \" + question_list[right_answer])\n",
    "            print(\"You have now performed the following actions:\")\n",
    "            for i in range(0,len(actions_taken)):\n",
    "                print(str(i+1) + \") \" + actions_taken[i])"
   ]
  }
 ],
 "metadata": {
  "kernelspec": {
   "display_name": "Python 3",
   "language": "python",
   "name": "python3"
  },
  "language_info": {
   "codemirror_mode": {
    "name": "ipython",
    "version": 3
   },
   "file_extension": ".py",
   "mimetype": "text/x-python",
   "name": "python",
   "nbconvert_exporter": "python",
   "pygments_lexer": "ipython3",
   "version": "3.7.0"
  }
 },
 "nbformat": 4,
 "nbformat_minor": 2
}
